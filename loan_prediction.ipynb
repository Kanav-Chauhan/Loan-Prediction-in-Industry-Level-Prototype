{
 "cells": [
  {
   "cell_type": "markdown",
   "id": "305632d7",
   "metadata": {},
   "source": [
    "# Loan Status Prediction - Industry Prototype"
   ]
  },
  {
   "cell_type": "markdown",
   "id": "0f6dce3a",
   "metadata": {},
   "source": [
    "## Importing the Library "
   ]
  },
  {
   "cell_type": "code",
   "execution_count": 117,
   "id": "0528b3fa",
   "metadata": {},
   "outputs": [],
   "source": [
    "import pandas as pd\n",
    "import numpy as np\n",
    "from sklearn.preprocessing import StandardScaler, OneHotEncoder\n",
    "from sklearn.compose import ColumnTransformer\n",
    "from sklearn.pipeline import Pipeline\n",
    "from sklearn.model_selection import StratifiedKFold, cross_validate, RandomizedSearchCV\n",
    "from sklearn.impute import SimpleImputer\n",
    "from sklearn.linear_model import LogisticRegression\n",
    "from sklearn.ensemble import RandomForestClassifier, GradientBoostingClassifier\n",
    "from sklearn.svm import SVC\n",
    "from sklearn.tree import DecisionTreeClassifier\n",
    "from sklearn.neighbors import KNeighborsClassifier\n",
    "import joblib\n",
    "import warnings\n",
    "warnings.filterwarnings(\"ignore\")"
   ]
  },
  {
   "cell_type": "markdown",
   "id": "af56bd7b",
   "metadata": {},
   "source": [
    "## Loading Dataset with Necessary columns "
   ]
  },
  {
   "cell_type": "code",
   "execution_count": 118,
   "id": "f75aac89",
   "metadata": {},
   "outputs": [
    {
     "data": {
      "text/html": [
       "<div>\n",
       "<style scoped>\n",
       "    .dataframe tbody tr th:only-of-type {\n",
       "        vertical-align: middle;\n",
       "    }\n",
       "\n",
       "    .dataframe tbody tr th {\n",
       "        vertical-align: top;\n",
       "    }\n",
       "\n",
       "    .dataframe thead th {\n",
       "        text-align: right;\n",
       "    }\n",
       "</style>\n",
       "<table border=\"1\" class=\"dataframe\">\n",
       "  <thead>\n",
       "    <tr style=\"text-align: right;\">\n",
       "      <th></th>\n",
       "      <th>Loan_ID</th>\n",
       "      <th>Gender</th>\n",
       "      <th>Married</th>\n",
       "      <th>Dependents</th>\n",
       "      <th>Education</th>\n",
       "      <th>Self_Employed</th>\n",
       "      <th>ApplicantIncome</th>\n",
       "      <th>CoapplicantIncome</th>\n",
       "      <th>LoanAmount</th>\n",
       "      <th>Loan_Amount_Term</th>\n",
       "      <th>Credit_History</th>\n",
       "      <th>Property_Area</th>\n",
       "      <th>Loan_Status</th>\n",
       "    </tr>\n",
       "  </thead>\n",
       "  <tbody>\n",
       "    <tr>\n",
       "      <th>0</th>\n",
       "      <td>LP001002</td>\n",
       "      <td>Male</td>\n",
       "      <td>No</td>\n",
       "      <td>0</td>\n",
       "      <td>Graduate</td>\n",
       "      <td>No</td>\n",
       "      <td>5849</td>\n",
       "      <td>0.0</td>\n",
       "      <td>NaN</td>\n",
       "      <td>360.0</td>\n",
       "      <td>1.0</td>\n",
       "      <td>Urban</td>\n",
       "      <td>Y</td>\n",
       "    </tr>\n",
       "    <tr>\n",
       "      <th>1</th>\n",
       "      <td>LP001003</td>\n",
       "      <td>Male</td>\n",
       "      <td>Yes</td>\n",
       "      <td>1</td>\n",
       "      <td>Graduate</td>\n",
       "      <td>No</td>\n",
       "      <td>4583</td>\n",
       "      <td>1508.0</td>\n",
       "      <td>128.0</td>\n",
       "      <td>360.0</td>\n",
       "      <td>1.0</td>\n",
       "      <td>Rural</td>\n",
       "      <td>N</td>\n",
       "    </tr>\n",
       "    <tr>\n",
       "      <th>2</th>\n",
       "      <td>LP001005</td>\n",
       "      <td>Male</td>\n",
       "      <td>Yes</td>\n",
       "      <td>0</td>\n",
       "      <td>Graduate</td>\n",
       "      <td>Yes</td>\n",
       "      <td>3000</td>\n",
       "      <td>0.0</td>\n",
       "      <td>66.0</td>\n",
       "      <td>360.0</td>\n",
       "      <td>1.0</td>\n",
       "      <td>Urban</td>\n",
       "      <td>Y</td>\n",
       "    </tr>\n",
       "    <tr>\n",
       "      <th>3</th>\n",
       "      <td>LP001006</td>\n",
       "      <td>Male</td>\n",
       "      <td>Yes</td>\n",
       "      <td>0</td>\n",
       "      <td>Not Graduate</td>\n",
       "      <td>No</td>\n",
       "      <td>2583</td>\n",
       "      <td>2358.0</td>\n",
       "      <td>120.0</td>\n",
       "      <td>360.0</td>\n",
       "      <td>1.0</td>\n",
       "      <td>Urban</td>\n",
       "      <td>Y</td>\n",
       "    </tr>\n",
       "    <tr>\n",
       "      <th>4</th>\n",
       "      <td>LP001008</td>\n",
       "      <td>Male</td>\n",
       "      <td>No</td>\n",
       "      <td>0</td>\n",
       "      <td>Graduate</td>\n",
       "      <td>No</td>\n",
       "      <td>6000</td>\n",
       "      <td>0.0</td>\n",
       "      <td>141.0</td>\n",
       "      <td>360.0</td>\n",
       "      <td>1.0</td>\n",
       "      <td>Urban</td>\n",
       "      <td>Y</td>\n",
       "    </tr>\n",
       "  </tbody>\n",
       "</table>\n",
       "</div>"
      ],
      "text/plain": [
       "    Loan_ID Gender Married Dependents     Education Self_Employed  \\\n",
       "0  LP001002   Male      No          0      Graduate            No   \n",
       "1  LP001003   Male     Yes          1      Graduate            No   \n",
       "2  LP001005   Male     Yes          0      Graduate           Yes   \n",
       "3  LP001006   Male     Yes          0  Not Graduate            No   \n",
       "4  LP001008   Male      No          0      Graduate            No   \n",
       "\n",
       "   ApplicantIncome  CoapplicantIncome  LoanAmount  Loan_Amount_Term  \\\n",
       "0             5849                0.0         NaN             360.0   \n",
       "1             4583             1508.0       128.0             360.0   \n",
       "2             3000                0.0        66.0             360.0   \n",
       "3             2583             2358.0       120.0             360.0   \n",
       "4             6000                0.0       141.0             360.0   \n",
       "\n",
       "   Credit_History Property_Area Loan_Status  \n",
       "0             1.0         Urban           Y  \n",
       "1             1.0         Rural           N  \n",
       "2             1.0         Urban           Y  \n",
       "3             1.0         Urban           Y  \n",
       "4             1.0         Urban           Y  "
      ]
     },
     "execution_count": 118,
     "metadata": {},
     "output_type": "execute_result"
    }
   ],
   "source": [
    "df = pd.read_csv(\"loan_data.csv\")\n",
    "df.head()"
   ]
  },
  {
   "cell_type": "code",
   "execution_count": 119,
   "id": "8483a771",
   "metadata": {},
   "outputs": [],
   "source": [
    "df.drop(columns=[\"Loan_ID\"],inplace=True)"
   ]
  },
  {
   "cell_type": "code",
   "execution_count": 120,
   "id": "5a087f9b",
   "metadata": {},
   "outputs": [
    {
     "data": {
      "text/html": [
       "<div>\n",
       "<style scoped>\n",
       "    .dataframe tbody tr th:only-of-type {\n",
       "        vertical-align: middle;\n",
       "    }\n",
       "\n",
       "    .dataframe tbody tr th {\n",
       "        vertical-align: top;\n",
       "    }\n",
       "\n",
       "    .dataframe thead th {\n",
       "        text-align: right;\n",
       "    }\n",
       "</style>\n",
       "<table border=\"1\" class=\"dataframe\">\n",
       "  <thead>\n",
       "    <tr style=\"text-align: right;\">\n",
       "      <th></th>\n",
       "      <th>Gender</th>\n",
       "      <th>Married</th>\n",
       "      <th>Dependents</th>\n",
       "      <th>Education</th>\n",
       "      <th>Self_Employed</th>\n",
       "      <th>ApplicantIncome</th>\n",
       "      <th>CoapplicantIncome</th>\n",
       "      <th>LoanAmount</th>\n",
       "      <th>Loan_Amount_Term</th>\n",
       "      <th>Credit_History</th>\n",
       "      <th>Property_Area</th>\n",
       "      <th>Loan_Status</th>\n",
       "    </tr>\n",
       "  </thead>\n",
       "  <tbody>\n",
       "    <tr>\n",
       "      <th>0</th>\n",
       "      <td>Male</td>\n",
       "      <td>No</td>\n",
       "      <td>0</td>\n",
       "      <td>Graduate</td>\n",
       "      <td>No</td>\n",
       "      <td>5849</td>\n",
       "      <td>0.0</td>\n",
       "      <td>NaN</td>\n",
       "      <td>360.0</td>\n",
       "      <td>1.0</td>\n",
       "      <td>Urban</td>\n",
       "      <td>Y</td>\n",
       "    </tr>\n",
       "    <tr>\n",
       "      <th>1</th>\n",
       "      <td>Male</td>\n",
       "      <td>Yes</td>\n",
       "      <td>1</td>\n",
       "      <td>Graduate</td>\n",
       "      <td>No</td>\n",
       "      <td>4583</td>\n",
       "      <td>1508.0</td>\n",
       "      <td>128.0</td>\n",
       "      <td>360.0</td>\n",
       "      <td>1.0</td>\n",
       "      <td>Rural</td>\n",
       "      <td>N</td>\n",
       "    </tr>\n",
       "    <tr>\n",
       "      <th>2</th>\n",
       "      <td>Male</td>\n",
       "      <td>Yes</td>\n",
       "      <td>0</td>\n",
       "      <td>Graduate</td>\n",
       "      <td>Yes</td>\n",
       "      <td>3000</td>\n",
       "      <td>0.0</td>\n",
       "      <td>66.0</td>\n",
       "      <td>360.0</td>\n",
       "      <td>1.0</td>\n",
       "      <td>Urban</td>\n",
       "      <td>Y</td>\n",
       "    </tr>\n",
       "    <tr>\n",
       "      <th>3</th>\n",
       "      <td>Male</td>\n",
       "      <td>Yes</td>\n",
       "      <td>0</td>\n",
       "      <td>Not Graduate</td>\n",
       "      <td>No</td>\n",
       "      <td>2583</td>\n",
       "      <td>2358.0</td>\n",
       "      <td>120.0</td>\n",
       "      <td>360.0</td>\n",
       "      <td>1.0</td>\n",
       "      <td>Urban</td>\n",
       "      <td>Y</td>\n",
       "    </tr>\n",
       "    <tr>\n",
       "      <th>4</th>\n",
       "      <td>Male</td>\n",
       "      <td>No</td>\n",
       "      <td>0</td>\n",
       "      <td>Graduate</td>\n",
       "      <td>No</td>\n",
       "      <td>6000</td>\n",
       "      <td>0.0</td>\n",
       "      <td>141.0</td>\n",
       "      <td>360.0</td>\n",
       "      <td>1.0</td>\n",
       "      <td>Urban</td>\n",
       "      <td>Y</td>\n",
       "    </tr>\n",
       "  </tbody>\n",
       "</table>\n",
       "</div>"
      ],
      "text/plain": [
       "  Gender Married Dependents     Education Self_Employed  ApplicantIncome  \\\n",
       "0   Male      No          0      Graduate            No             5849   \n",
       "1   Male     Yes          1      Graduate            No             4583   \n",
       "2   Male     Yes          0      Graduate           Yes             3000   \n",
       "3   Male     Yes          0  Not Graduate            No             2583   \n",
       "4   Male      No          0      Graduate            No             6000   \n",
       "\n",
       "   CoapplicantIncome  LoanAmount  Loan_Amount_Term  Credit_History  \\\n",
       "0                0.0         NaN             360.0             1.0   \n",
       "1             1508.0       128.0             360.0             1.0   \n",
       "2                0.0        66.0             360.0             1.0   \n",
       "3             2358.0       120.0             360.0             1.0   \n",
       "4                0.0       141.0             360.0             1.0   \n",
       "\n",
       "  Property_Area Loan_Status  \n",
       "0         Urban           Y  \n",
       "1         Rural           N  \n",
       "2         Urban           Y  \n",
       "3         Urban           Y  \n",
       "4         Urban           Y  "
      ]
     },
     "execution_count": 120,
     "metadata": {},
     "output_type": "execute_result"
    }
   ],
   "source": [
    "df.head()"
   ]
  },
  {
   "cell_type": "markdown",
   "id": "11368d1a",
   "metadata": {},
   "source": [
    "## Target and Features Loading "
   ]
  },
  {
   "cell_type": "code",
   "execution_count": 121,
   "id": "c47f30ca",
   "metadata": {},
   "outputs": [],
   "source": [
    "X = df.drop(columns=[\"Loan_Status\"])\n",
    "y = df[\"Loan_Status\"].map({\"Y\":1,\"N\":0})\n"
   ]
  },
  {
   "cell_type": "code",
   "execution_count": 122,
   "id": "cbe7f6d3",
   "metadata": {},
   "outputs": [
    {
     "data": {
      "text/plain": [
       "0    1\n",
       "1    0\n",
       "2    1\n",
       "3    1\n",
       "4    1\n",
       "Name: Loan_Status, dtype: int64"
      ]
     },
     "execution_count": 122,
     "metadata": {},
     "output_type": "execute_result"
    }
   ],
   "source": [
    "y.head()"
   ]
  },
  {
   "cell_type": "markdown",
   "id": "bd8deabc",
   "metadata": {},
   "source": [
    "## Auto Detect column types"
   ]
  },
  {
   "cell_type": "code",
   "execution_count": 123,
   "id": "582a6c42",
   "metadata": {},
   "outputs": [],
   "source": [
    "num_cols = X.select_dtypes(include=[\"int64\",\"float64\"]).columns.tolist()\n",
    "cat_cols = X.select_dtypes(include=[\"object\"]).columns.tolist()"
   ]
  },
  {
   "cell_type": "markdown",
   "id": "07e41f54",
   "metadata": {},
   "source": [
    "## Preprocessing "
   ]
  },
  {
   "cell_type": "code",
   "execution_count": 124,
   "id": "6a0c3147",
   "metadata": {},
   "outputs": [],
   "source": [
    "preprocessor = ColumnTransformer(\n",
    "    transformers=[\n",
    "        (\"num\",Pipeline([\n",
    "            (\"imputer\", SimpleImputer(strategy=\"median\")),\n",
    "            (\"scaler\", StandardScaler())\n",
    "        ]),num_cols),\n",
    "        (\"cat\",Pipeline([\n",
    "            (\"imputer\",SimpleImputer(strategy=\"most_frequent\")),\n",
    "            (\"encoder\", OneHotEncoder(handle_unknown=\"ignore\"))\n",
    "        ]), cat_cols)\n",
    "    ]\n",
    ")"
   ]
  },
  {
   "cell_type": "markdown",
   "id": "142a9c83",
   "metadata": {},
   "source": [
    "## Models && Hyperparameters"
   ]
  },
  {
   "cell_type": "code",
   "execution_count": 125,
   "id": "59036c05",
   "metadata": {},
   "outputs": [],
   "source": [
    "models = {\n",
    "    \"LogisticRegression\":{\n",
    "        \"model\": LogisticRegression(max_iter=500),\n",
    "        \"params\" : {\"model__C\":[0.01,0.1,1,10]}\n",
    "    },\n",
    "    \"RandomForest\": {\n",
    "        \"model\": RandomForestClassifier(),\n",
    "        \"params\": {\"model__n_estimators\":[50,100,200],\"model__max_depth\":[None,5,10]}\n",
    "    },\n",
    "    \"GradientBoosting\": {\n",
    "        \"model\": GradientBoostingClassifier(),\n",
    "        \"params\": {\"model__n_estimators\":[50,100,200],\"model__learning_rate\":[0.01,0.1,0.2]}\n",
    "    },\n",
    "    \"SVC\": {\n",
    "        \"model\": SVC(probability=True),\n",
    "        \"params\": {\"model__C\":[0.1,1,10],\"model__kernel\":[\"linear\",\"rbf\"]}\n",
    "    },\n",
    "    \"DecisionTree\":{\n",
    "        \"model\":DecisionTreeClassifier(),\n",
    "        \"params\": {\"model__max_depth\":[None,5,10]}\n",
    "    },\n",
    "    \"KNN\": {\n",
    "        \"model\": KNeighborsClassifier(),\n",
    "        \"params\": {\"model__n_neighbors\":[3,5,7]}\n",
    "    }\n",
    "    \n",
    "}"
   ]
  },
  {
   "cell_type": "markdown",
   "id": "01833613",
   "metadata": {},
   "source": [
    "## Cross Validataion"
   ]
  },
  {
   "cell_type": "code",
   "execution_count": 126,
   "id": "92b97a19",
   "metadata": {},
   "outputs": [
    {
     "name": "stdout",
     "output_type": "stream",
     "text": [
      "\n",
      "🔍Tuning LogisticRegression...\n",
      "\n",
      "🔍Tuning RandomForest...\n",
      "\n",
      "🔍Tuning GradientBoosting...\n",
      "\n",
      "🔍Tuning SVC...\n",
      "\n",
      "🔍Tuning DecisionTree...\n",
      "\n",
      "🔍Tuning KNN...\n"
     ]
    }
   ],
   "source": [
    "cv = StratifiedKFold(n_splits=5,shuffle=True,random_state=42)\n",
    "scoring = [\"accuracy\",\"precision\",\"recall\",\"f1\",\"roc_auc\"]\n",
    "\n",
    "results = []\n",
    "best_models = {}\n",
    "best_params_dict = {}\n",
    "for name, config in models.items():\n",
    "    print(f\"\\n🔍Tuning {name}...\")\n",
    "\n",
    "    pipe = Pipeline([\n",
    "        (\"preprocessor\",preprocessor),\n",
    "        (\"model\", config[\"model\"])\n",
    "    ])\n",
    "\n",
    "    search = RandomizedSearchCV(\n",
    "        pipe, config[\"params\"],\n",
    "        n_iter=5,cv=cv,scoring=\"f1\",\n",
    "        n_jobs=-1,random_state=42\n",
    "\n",
    "    )\n",
    "    search.fit(X,y)\n",
    "\n",
    "    #Save the best model & params\n",
    "    best_model = search.best_estimator_\n",
    "    best_models[name] = best_model\n",
    "    best_params_dict[name] = search.best_params_\n",
    "\n",
    "    # Cross-validate best model\n",
    "    scores = cross_validate(best_model,X,y,cv=cv,scoring=scoring)\n",
    "\n",
    "    results.append({\n",
    "        \"Model\": name,\n",
    "        \"Best Params\": search.best_params_,\n",
    "        \"Accuracy\": np.mean(scores[\"test_accuracy\"]),\n",
    "        \"Precision\": np.mean(scores[\"test_precision\"]),\n",
    "        \"Recall\": np.mean(scores[\"test_recall\"]),\n",
    "        \"F1\": np.mean(scores[\"test_f1\"]),\n",
    "        \"ROC-AUC\": np.mean(scores[\"test_roc_auc\"]),\n",
    "    })\n"
   ]
  },
  {
   "cell_type": "markdown",
   "id": "f66e7fe6",
   "metadata": {},
   "source": [
    "## Display results"
   ]
  },
  {
   "cell_type": "code",
   "execution_count": 127,
   "id": "8d522fbf",
   "metadata": {},
   "outputs": [
    {
     "data": {
      "text/html": [
       "<div>\n",
       "<style scoped>\n",
       "    .dataframe tbody tr th:only-of-type {\n",
       "        vertical-align: middle;\n",
       "    }\n",
       "\n",
       "    .dataframe tbody tr th {\n",
       "        vertical-align: top;\n",
       "    }\n",
       "\n",
       "    .dataframe thead th {\n",
       "        text-align: right;\n",
       "    }\n",
       "</style>\n",
       "<table border=\"1\" class=\"dataframe\">\n",
       "  <thead>\n",
       "    <tr style=\"text-align: right;\">\n",
       "      <th></th>\n",
       "      <th>Model</th>\n",
       "      <th>Best Params</th>\n",
       "      <th>Accuracy</th>\n",
       "      <th>Precision</th>\n",
       "      <th>Recall</th>\n",
       "      <th>F1</th>\n",
       "      <th>ROC-AUC</th>\n",
       "    </tr>\n",
       "  </thead>\n",
       "  <tbody>\n",
       "    <tr>\n",
       "      <th>0</th>\n",
       "      <td>LogisticRegression</td>\n",
       "      <td>{'model__C': 0.01}</td>\n",
       "      <td>0.811102</td>\n",
       "      <td>0.792205</td>\n",
       "      <td>0.983417</td>\n",
       "      <td>0.877443</td>\n",
       "      <td>0.751064</td>\n",
       "    </tr>\n",
       "    <tr>\n",
       "      <th>1</th>\n",
       "      <td>RandomForest</td>\n",
       "      <td>{'model__n_estimators': 200, 'model__max_depth...</td>\n",
       "      <td>0.807837</td>\n",
       "      <td>0.791383</td>\n",
       "      <td>0.978655</td>\n",
       "      <td>0.875045</td>\n",
       "      <td>0.754345</td>\n",
       "    </tr>\n",
       "    <tr>\n",
       "      <th>2</th>\n",
       "      <td>GradientBoosting</td>\n",
       "      <td>{'model__n_estimators': 100, 'model__learning_...</td>\n",
       "      <td>0.804585</td>\n",
       "      <td>0.787201</td>\n",
       "      <td>0.981064</td>\n",
       "      <td>0.873459</td>\n",
       "      <td>0.717574</td>\n",
       "    </tr>\n",
       "    <tr>\n",
       "      <th>3</th>\n",
       "      <td>SVC</td>\n",
       "      <td>{'model__kernel': 'linear', 'model__C': 0.1}</td>\n",
       "      <td>0.809476</td>\n",
       "      <td>0.790695</td>\n",
       "      <td>0.983417</td>\n",
       "      <td>0.876517</td>\n",
       "      <td>0.705772</td>\n",
       "    </tr>\n",
       "    <tr>\n",
       "      <th>4</th>\n",
       "      <td>DecisionTree</td>\n",
       "      <td>{'model__max_depth': 5}</td>\n",
       "      <td>0.781807</td>\n",
       "      <td>0.777122</td>\n",
       "      <td>0.957311</td>\n",
       "      <td>0.857774</td>\n",
       "      <td>0.678637</td>\n",
       "    </tr>\n",
       "  </tbody>\n",
       "</table>\n",
       "</div>"
      ],
      "text/plain": [
       "                Model                                        Best Params  \\\n",
       "0  LogisticRegression                                 {'model__C': 0.01}   \n",
       "1        RandomForest  {'model__n_estimators': 200, 'model__max_depth...   \n",
       "2    GradientBoosting  {'model__n_estimators': 100, 'model__learning_...   \n",
       "3                 SVC       {'model__kernel': 'linear', 'model__C': 0.1}   \n",
       "4        DecisionTree                            {'model__max_depth': 5}   \n",
       "\n",
       "   Accuracy  Precision    Recall        F1   ROC-AUC  \n",
       "0  0.811102   0.792205  0.983417  0.877443  0.751064  \n",
       "1  0.807837   0.791383  0.978655  0.875045  0.754345  \n",
       "2  0.804585   0.787201  0.981064  0.873459  0.717574  \n",
       "3  0.809476   0.790695  0.983417  0.876517  0.705772  \n",
       "4  0.781807   0.777122  0.957311  0.857774  0.678637  "
      ]
     },
     "execution_count": 127,
     "metadata": {},
     "output_type": "execute_result"
    }
   ],
   "source": [
    "results_df = pd.DataFrame(results)\n",
    "results_df.head()"
   ]
  },
  {
   "cell_type": "code",
   "execution_count": 128,
   "id": "58736edc",
   "metadata": {},
   "outputs": [
    {
     "name": "stdout",
     "output_type": "stream",
     "text": [
      "\n",
      "📊 Model Comparison:\n",
      "                 Model                                        Best Params  \\\n",
      "0  LogisticRegression                                 {'model__C': 0.01}   \n",
      "3                 SVC       {'model__kernel': 'linear', 'model__C': 0.1}   \n",
      "1        RandomForest  {'model__n_estimators': 200, 'model__max_depth...   \n",
      "2    GradientBoosting  {'model__n_estimators': 100, 'model__learning_...   \n",
      "4        DecisionTree                            {'model__max_depth': 5}   \n",
      "5                 KNN                          {'model__n_neighbors': 7}   \n",
      "\n",
      "   Accuracy  Precision    Recall        F1   ROC-AUC  \n",
      "0  0.811102   0.792205  0.983417  0.877443  0.751064  \n",
      "3  0.809476   0.790695  0.983417  0.876517  0.705772  \n",
      "1  0.807837   0.791383  0.978655  0.875045  0.754345  \n",
      "2  0.804585   0.787201  0.981064  0.873459  0.717574  \n",
      "4  0.781807   0.777122  0.957311  0.857774  0.678637  \n",
      "5  0.780168   0.783194  0.940784  0.854713  0.743730  \n"
     ]
    }
   ],
   "source": [
    "results_df = results_df.sort_values(by=\"F1\",ascending=False)\n",
    "print(\"\\n📊 Model Comparison:\\n\", results_df)"
   ]
  },
  {
   "cell_type": "markdown",
   "id": "bf218341",
   "metadata": {},
   "source": [
    "## Saving Best Model"
   ]
  },
  {
   "cell_type": "code",
   "execution_count": 129,
   "id": "62e05576",
   "metadata": {},
   "outputs": [
    {
     "name": "stdout",
     "output_type": "stream",
     "text": [
      "\n",
      "✅ Best model 'LogisticRegression' saved as best_model.joblib\n",
      "📝 Best hyperparameters (in memory): {'model__C': 0.01}\n"
     ]
    }
   ],
   "source": [
    "best_model_name = results_df.iloc[0][\"Model\"]\n",
    "final_model = best_models[best_model_name]\n",
    "joblib.dump(final_model,\"best_model.joblib\")\n",
    "\n",
    "print(f\"\\n✅ Best model '{best_model_name}' saved as best_model.joblib\")\n",
    "print(f\"📝 Best hyperparameters (in memory): {best_params_dict[best_model_name]}\")\n",
    "\n",
    "# Save model comparison results\n",
    "results_df.to_csv(\"model_results.csv\", index=False)\n",
    "\n"
   ]
  },
  {
   "cell_type": "code",
   "execution_count": null,
   "id": "4d1a71c5",
   "metadata": {},
   "outputs": [],
   "source": []
  }
 ],
 "metadata": {
  "kernelspec": {
   "display_name": "venv",
   "language": "python",
   "name": "python3"
  },
  "language_info": {
   "codemirror_mode": {
    "name": "ipython",
    "version": 3
   },
   "file_extension": ".py",
   "mimetype": "text/x-python",
   "name": "python",
   "nbconvert_exporter": "python",
   "pygments_lexer": "ipython3",
   "version": "3.13.2"
  }
 },
 "nbformat": 4,
 "nbformat_minor": 5
}
